{
 "cells": [
  {
   "cell_type": "markdown",
   "metadata": {},
   "source": [
    "This notebook is the record of how I built a simple artificial bat call detector. I see that MacAodha et al. 2018 have a really cool dataset that predicts the presence of multiple bat calls in an audio recording. However, after brief tests with my current Orlova Chuka dataset, I see that the neural network is not really equipped to handle 'busy' recordings with multiple bat calls in a few milliseconds - which is basically most of my data. To allow fast and robust detection of bat cals in such busy situations, I need to develop a separate detector it looks like. \n",
    "\n",
    "What I'm planning to do is to essentially break the problem into two parts:\n",
    "1) training a network to detect the presence of a single bat call in a short timespan recording (10ms)\n",
    "    > the network will be trained on artificially generated bat-like calls \n",
    "2) running this network on real data to see if it works \n",
    "3) figuring out how to output temporal localisation information from this network. "
   ]
  },
  {
   "cell_type": "markdown",
   "metadata": {},
   "source": [
    "### The Training and Testing dataset : \n",
    "The training and testing dataset will have two types of audio snippets : \n",
    "#### > bat like call : FM sweeps of varying frequency ranges, durations, amplitude windowing, SNR etc., *maybe even CF sweeps?..*\n",
    "#### > non-bat like call : all kinds of sounds that are *not* bat calls, sounds in the audible range, upward FM sweeps, noise with same frequency structure as bat like call, time scrambled version of a bat like call, FM sweeps in audbile range, impulsive sounds with the same time-frequency structure as a bat call \n",
    "\n",
    "My idea is essentially that if I can train a network to distinguish a bat call from a non-bat call this can then be used as a learning ground to know what works and what doesn't work. I'm also hoping that any network trained on such a large variety of bat+non-bat like calls should be able to generalise onto the real data itself ! \n",
    "\n",
    "As of now I understand that object localisation first depends on having a working detector network first! This detector network is then in turn used to predict the probabilities of the object/s being placed in various parts of the network. Thus, this detector network is the first step in building a network that actually labels the start and end time of a bat call in an audio recording. \n"
   ]
  },
  {
   "cell_type": "markdown",
   "metadata": {},
   "source": [
    "2018-09-19: \n",
    "\n",
    "#### Generating the training + test datasets.\n",
    "As of now I'm taking a very quick and dirty approach - a little bit unsettling, but I know this is exactly what's needed to get my proof of concept bat call detection network started. I'm planning to use the spectrograms of the audio for call detection, just like the batdetect network. \n",
    "\n",
    "I've written some quick code that generates 10 millisecond audio snippets with:\n",
    "* various types of FM chirps with high-low frequency sweeps with varying:\n",
    "    * start and end frequencies \n",
    "    * durations \n",
    "    * SNRs\n",
    "    * background noise level \n",
    "    * 'shape' (linear/hyperbolic/logarithmic)\n",
    "\n",
    "* A whole variety of non-bat like sounds : \n",
    "    * low-high frequency chirps \n",
    "    * continuous noise\n",
    "    * bat-like calls in the audible frequency range \n",
    "Hopefully, these examples right now should already be enough to train the network. \n",
    "\n",
    "#### Final output of the spectrograms from the audio snippets : \n",
    "I'm still considering what kind of spectrogram shape to feed into the network. The final input dimensions to the network should be : \n",
    "* training_images : Numtraining_samples x Nrow x Ncolumns , training_labels : 1 x Numtraining_samples\n",
    "\n",
    "At this point I'm not yet sure what spectrogram parameters to feed into the network - and so perhaps I'll just create all of the audio files with the proper labels right now. "
   ]
  },
  {
   "cell_type": "code",
   "execution_count": 1,
   "metadata": {},
   "outputs": [],
   "source": [
    "import matplotlib.pyplot as plt\n",
    "plt.rcParams['agg.path.chunksize'] = 10000\n",
    "import numpy as np \n",
    "import pandas as pd\n",
    "import random\n",
    "import scipy.signal as signal \n",
    "import time\n",
    "\n",
    "from make_training_data import generate_a_samplesound, mean_subtract_rowwise, generate_noise_as_samplesound"
   ]
  },
  {
   "cell_type": "code",
   "execution_count": 2,
   "metadata": {},
   "outputs": [],
   "source": [
    "def make_one_sample_sound(startfreq_range, endfreq_range, noise=False):\n",
    "    '''\n",
    "    \n",
    "    Creates a bat-like FM chirp and returns the signal array + \n",
    "    the spectrogram of the signal array after band-wise mean subtraction.\n",
    "    \n",
    "    '''\n",
    "    \n",
    "    SNRs = np.arange(-2,50)\n",
    "    bg_noise_dB = np.arange(-80, -6)\n",
    "\n",
    "    shapes = ['linear', 'hyperbolic', 'logarithmic']\n",
    "    durations = np.linspace(0.001, 0.009, 10)\n",
    "\n",
    "    fft_winsize = 64\n",
    "    fft_winoverlap = 32\n",
    "  \n",
    "    file_timestamp  = str(int(time.time()*10**6))\n",
    "\n",
    "    bg_noise = np.random.choice(bg_noise_dB, 1)\n",
    "\n",
    "    \n",
    "    if not noise:\n",
    "        rand_durn = np.random.choice(durations,1)\n",
    "        rand_shape = random.choice(shapes)\n",
    "        start_freq = np.random.choice(startfreq_range, 1)\n",
    "        end_freq = np.random.choice(endfreq_range, 1)\n",
    "        rand_snr = np.random.choice(SNRs, 1)\n",
    "\n",
    "        one_sound = generate_a_samplesound(rand_durn,fs=192000, freqs=[start_freq, end_freq],\n",
    "                                   background_noise=bg_noise, SNR=rand_snr)\n",
    "        \n",
    "    else:\n",
    "        one_sound = generate_noise_as_samplesound(bg_noise)\n",
    "    f,t, s= signal.spectrogram(one_sound, fs=192000, nperseg=fft_winsize, noverlap=fft_winoverlap);\n",
    "    flipped_s = np.flipud(s)\n",
    "    spect_image = mean_subtract_rowwise(flipped_s)\n",
    "    # now normalise by highest value:\n",
    "    norm_spect_image = spect_image/np.max(spect_image)\n",
    "\n",
    "    return(one_sound, norm_spect_image, file_timestamp)\n",
    "\n"
   ]
  },
  {
   "cell_type": "code",
   "execution_count": 3,
   "metadata": {},
   "outputs": [],
   "source": [
    "def  make_some_batcalllike_files(num_files):\n",
    "    audio_file_dict = {}\n",
    "    startfreq_range = np.arange(95000, 60000, -1)\n",
    "    endfreq_range = np.arange(50000, 20000, -1)\n",
    "    for k in range(num_files):\n",
    "        snippet, spect_im, filename = make_one_sample_sound(startfreq_range, endfreq_range)\n",
    "        audio_file_dict[filename] = {'audio':snippet, 'image':spect_im, 'batlike':1}\n",
    "    return(audio_file_dict)"
   ]
  },
  {
   "cell_type": "code",
   "execution_count": 4,
   "metadata": {},
   "outputs": [],
   "source": [
    "def  make_some_ultrasonic_upwardFM_files(num_files):\n",
    "    audio_file_dict = {}\n",
    "    startfreq_range = np.arange(20000, 50000, 1)\n",
    "    endfreq_range =  np.arange(60000, 95000, 1)\n",
    "    for k in range(num_files):\n",
    "        snippet, spect_im, filename = make_one_sample_sound(startfreq_range, endfreq_range)\n",
    "        audio_file_dict[filename] = {'audio':snippet, 'image':spect_im, 'batlike':0}\n",
    "    return(audio_file_dict)"
   ]
  },
  {
   "cell_type": "code",
   "execution_count": 5,
   "metadata": {},
   "outputs": [],
   "source": [
    "def  make_some_audible_FM_files(num_files):\n",
    "    audio_file_dict = {}\n",
    "    startfreq_range = np.arange(10000, 20000, 1)\n",
    "    endfreq_range = np.arange(5000, 1, -1)\n",
    "    for k in range(num_files):\n",
    "        snippet, spect_im, filename = make_one_sample_sound(startfreq_range, endfreq_range)\n",
    "        audio_file_dict[filename] = {'audio':snippet, 'image':spect_im, 'batlike':0}\n",
    "    return(audio_file_dict)"
   ]
  },
  {
   "cell_type": "code",
   "execution_count": 6,
   "metadata": {},
   "outputs": [],
   "source": [
    "def make_some_noise_files(num_files):\n",
    "    audio_file_dict = {}\n",
    "    startf = None\n",
    "    endf = None\n",
    "    for k in range(num_files):\n",
    "        snippet, spect_im, filename = make_one_sample_sound(startf, endf,noise=True)\n",
    "        audio_file_dict[filename] = {'audio':snippet, 'image':spect_im, 'batlike':0}\n",
    "    return(audio_file_dict)"
   ]
  },
  {
   "cell_type": "code",
   "execution_count": 7,
   "metadata": {},
   "outputs": [],
   "source": [
    "nfiles = 1000\n",
    "# make all the non-bat like sound snippets \n",
    "noise_file_dict = make_some_noise_files(nfiles)\n",
    "audiblefm_file_dict = make_some_audible_FM_files(nfiles)\n",
    "ultrsonic_upFM_dict = make_some_ultrasonic_upwardFM_files(nfiles)\n",
    "# make all the bat-like sound snippets\n",
    "batlike_dict = make_some_batcalllike_files(nfiles*4)"
   ]
  },
  {
   "cell_type": "code",
   "execution_count": 8,
   "metadata": {},
   "outputs": [
    {
     "data": {
      "text/plain": [
       "<matplotlib.image.AxesImage at 0x7ff8ca5106d0>"
      ]
     },
     "execution_count": 8,
     "metadata": {},
     "output_type": "execute_result"
    },
    {
     "data": {
      "image/png": "[encoded data removed]",
      "text/plain": [
       "<Figure size 864x576 with 4 Axes>"
      ]
     },
     "metadata": {
      "needs_background": "light"
     },
     "output_type": "display_data"
    }
   ],
   "source": [
    "eg1 = batlike_dict[batlike_dict.keys()[8]]['image']\n",
    "eg2 = audiblefm_file_dict[audiblefm_file_dict.keys()[8]]['image']\n",
    "eg3 = ultrsonic_upFM_dict[ultrsonic_upFM_dict.keys()[8]]['image']\n",
    "eg4 = noise_file_dict[noise_file_dict.keys()[8]]['image']\n",
    "\n",
    "plt.figure(figsize=(12,8))\n",
    "plt.subplot(321); plt.imshow(eg1)\n",
    "plt.subplot(322); plt.imshow(eg2)\n",
    "plt.subplot(323); plt.imshow(eg3)\n",
    "plt.subplot(324); plt.imshow(eg4)"
   ]
  },
  {
   "cell_type": "markdown",
   "metadata": {},
   "source": [
    "2018-09-20 : \n",
    "Today I'm actually going to put together all of the simulated data and begin assembling the network to train. I'm hoping I'll at least understand whether this task is achievable at all :P. \n",
    "Looking at the MNIST dataset format in Keras, I can see the end datasets needs to be a 3d matrix. I would essentially put together all of the spectrogram outputs into one 3d matrix, and then shuffle the rows a bit to avoid any kind of bias in the parameter estimation (eg. if all the +ve samples are placed first, followed by the -ve samples, this maybe perhaps could cause issues with the training as the network goes through one pass of all samples). "
   ]
  },
  {
   "cell_type": "code",
   "execution_count": 9,
   "metadata": {},
   "outputs": [],
   "source": [
    "# put all the sample spectrograms and the labels together. \n",
    "total_num_files = sum([ len(one_dict.keys()) for one_dict in [noise_file_dict, audiblefm_file_dict,ultrsonic_upFM_dict,\n",
    "                                                              batlike_dict] ])\n",
    "\n",
    "nrows_image, ncols_image =   batlike_dict[batlike_dict.keys()[0]]['image'].shape"
   ]
  },
  {
   "cell_type": "code",
   "execution_count": 10,
   "metadata": {},
   "outputs": [],
   "source": [
    "image_tensor = np.zeros((total_num_files, nrows_image, ncols_image))\n",
    "image_labels = np.zeros(total_num_files)\n",
    "\n",
    "image_num = 0\n",
    "for each_dict in [noise_file_dict, audiblefm_file_dict, ultrsonic_upFM_dict, batlike_dict]:    \n",
    "    for key,item in each_dict.iteritems():\n",
    "        image_tensor[image_num,:,:] = item['image']        \n",
    "        image_labels[image_num] = item['batlike']\n",
    "        image_num += 1 "
   ]
  },
  {
   "cell_type": "code",
   "execution_count": 11,
   "metadata": {},
   "outputs": [],
   "source": [
    "# shuffle around the data and separate them into training and testing datasets \n",
    "nonbatlike_indices = np.argwhere(image_labels==0).flatten()\n",
    "batlike_indices = np.argwhere(image_labels==1).flatten()\n",
    "\n",
    "positive_and_negative_inds = []\n",
    "# take out 75% of the +ve and -ve samples for training and keep 25% aside for testing:\n",
    "for inds in [batlike_indices, nonbatlike_indices]:\n",
    "    training_size = int(0.75*inds.size)\n",
    "    all_inds = set(inds)\n",
    "    training_inds = set(np.random.choice(inds, training_size, replace=False))\n",
    "    # find the indices that were not chosen randomly and assign them to the testing dataset \n",
    "    testing_inds = all_inds - training_inds\n",
    "    positive_and_negative_inds.append([training_inds, testing_inds])\n",
    "    \n"
   ]
  },
  {
   "cell_type": "code",
   "execution_count": 28,
   "metadata": {},
   "outputs": [],
   "source": [
    "positive_training_rowinds = np.array(list(positive_and_negative_inds[0][0]))\n",
    "positive_testing_rowinds = np.array(list(positive_and_negative_inds[0][1]))\n",
    "negative_training_rowinds = np.array(list(positive_and_negative_inds[1][0]))\n",
    "negative_testing_rowinds = np.array(list(positive_and_negative_inds[1][1]))\n",
    "\n",
    "positive_training_imgs = image_tensor[positive_training_rowinds,:,:]\n",
    "positive_testing_imgs = image_tensor[positive_testing_rowinds,:,:]\n",
    "negative_training_imgs = image_tensor[negative_training_rowinds,:,:]\n",
    "negative_testing_imgs = image_tensor[negative_testing_rowinds,:,:]\n",
    "\n",
    "positive_training_labels = image_labels[positive_training_rowinds]\n",
    "positive_testing_labels = image_labels[positive_testing_rowinds]\n",
    "negative_training_labels = image_labels[negative_training_rowinds]\n",
    "negative_testing_labels = image_labels[negative_testing_rowinds]\n",
    "\n",
    "# put it all together into two separate datasets and shuffle them again one last time : \n",
    "alltraining_imgs_serial = np.row_stack((positive_training_imgs, negative_training_imgs))\n",
    "alltraining_labels_serial = np.concatenate((positive_training_labels, negative_training_labels))\n",
    "\n",
    "ind_shuffle_training = np.random.choice(range(alltraining_imgs_serial.shape[0]),\n",
    "                                        alltraining_imgs_serial.shape[0],replace=False)\n",
    "training_imgs = alltraining_imgs_serial[ind_shuffle_training,:,:]\n",
    "training_labels = alltraining_labels_serial[ind_shuffle_training]\n",
    "\n",
    "testing_imgs = np.row_stack((positive_testing_imgs, negative_testing_imgs))\n",
    "testing_labels = np.concatenate((positive_testing_labels, negative_testing_labels))\n"
   ]
  },
  {
   "cell_type": "code",
   "execution_count": 29,
   "metadata": {},
   "outputs": [],
   "source": [
    "import pickle"
   ]
  },
  {
   "cell_type": "code",
   "execution_count": 30,
   "metadata": {},
   "outputs": [],
   "source": [
    "# let's also save all of this data in a nice format somewhere so that i can possible continue working on this data \n",
    "# with a separate notebook\n",
    "training_data = (training_imgs, training_labels)\n",
    "testing_data = (testing_imgs, testing_labels)\n",
    "\n",
    "all_data = {'training':training_data, 'testing':testing_data}\n",
    "\n",
    "file = open('batlike_data.pkl','wb')\n",
    "pickle.dump(all_data, file)\n",
    "file.close()"
   ]
  },
  {
   "cell_type": "markdown",
   "metadata": {},
   "source": [
    "### Let's stop right here and begin another notebook which actually deals with building a network from the current dataset we just created. "
   ]
  }
 ],
 "metadata": {
  "kernelspec": {
   "display_name": "Python [conda env:deeplearning]",
   "language": "python",
   "name": "conda-env-deeplearning-py"
  },
  "language_info": {
   "codemirror_mode": {
    "name": "ipython",
    "version": 2
   },
   "file_extension": ".py",
   "mimetype": "text/x-python",
   "name": "python",
   "nbconvert_exporter": "python",
   "pygments_lexer": "ipython2",
   "version": "2.7.15"
  }
 },
 "nbformat": 4,
 "nbformat_minor": 2
}
